{
 "cells": [
  {
   "cell_type": "code",
   "execution_count": 10,
   "metadata": {},
   "outputs": [
    {
     "name": "stdout",
     "output_type": "stream",
     "text": [
      "[   1  111 1111]\n",
      "[1 2 3]\n",
      "<class 'numpy.int32'>\n"
     ]
    }
   ],
   "source": [
    "from math import *\n",
    "import itertools as it\n",
    "import matplotlib.pyplot as plt\n",
    "import numpy as np\n",
    "M = int(1e9+7)\n",
    "\n",
    "n = 32\n",
    "m = 12\n",
    "\n",
    "\n",
    "y = [[1,1], [111,2], [1111,3]]\n",
    "y = np.array(y)\n",
    "\n",
    "print(y[:, 0])\n",
    "print(y[:, 1])\n",
    "print(type(y[:, 0][1]))\n"
   ]
  }
 ],
 "metadata": {
  "kernelspec": {
   "display_name": "Python 3.8.5 64-bit",
   "language": "python",
   "name": "python3"
  },
  "language_info": {
   "codemirror_mode": {
    "name": "ipython",
    "version": 3
   },
   "file_extension": ".py",
   "mimetype": "text/x-python",
   "name": "python",
   "nbconvert_exporter": "python",
   "pygments_lexer": "ipython3",
   "version": "3.8.5"
  },
  "orig_nbformat": 4,
  "vscode": {
   "interpreter": {
    "hash": "865d8b2eb28e274047ba64063dfb6a2aabf0dfec4905d304d7a76618dae6fdd4"
   }
  }
 },
 "nbformat": 4,
 "nbformat_minor": 2
}
